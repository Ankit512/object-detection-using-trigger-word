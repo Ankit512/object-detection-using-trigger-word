{
 "cells": [
  {
   "cell_type": "code",
   "execution_count": 1,
   "id": "buried-subsection",
   "metadata": {},
   "outputs": [
    {
     "name": "stderr",
     "output_type": "stream",
     "text": [
      "Using TensorFlow backend.\n"
     ]
    }
   ],
   "source": [
    "import time\n",
    "import numpy as np\n",
    "from utils import *\n",
    "from scipy.io import wavfile\n",
    "from keras.models import load_model\n",
    "import soundfile as sf\n",
    "import sounddevice as sd\n",
    "import cv2\n",
    "import os\n",
    "import imutils\n",
    "import subprocess\n",
    "from gtts import gTTS \n",
    "from pydub import AudioSegment\n",
    "AudioSegment.converter = \"C:/Users/ankit/Major Project/ffmpeg.exe\"\n",
    "from IPython.display import Audio"
   ]
  },
  {
   "cell_type": "code",
   "execution_count": 2,
   "id": "silent-pilot",
   "metadata": {},
   "outputs": [
    {
     "name": "stdout",
     "output_type": "stream",
     "text": [
      "[INFO] loading YOLO from disk...\n"
     ]
    }
   ],
   "source": [
    "# load the COCO class labels our YOLO model was trained on\n",
    "LABELS = open(r\"C:\\Users\\ankit\\Major Project\\coco.names\").read().strip().split(\"\\n\")\n",
    "texts = []\n",
    "hazard_obj = [\"knife\",\"fork\",\"scissors\"]\n",
    "alert_obj = [\"traffic light\",\"stop sign\",\"parking meter\",\"fire hydrant\"]\n",
    "\n",
    "np.random.seed(42)\n",
    "COLORS = np.random.randint(0, 255, size=(len(LABELS), 3),dtype=\"uint8\")\n",
    "\n",
    "# load our YOLO object detector trained on COCO dataset (80 classes)\n",
    "print(\"[INFO] loading YOLO from disk...\")\n",
    "net = cv2.dnn.readNetFromDarknet(r\"C:\\Users\\ankit\\Major Project\\yolov4.cfg\", r\"C:\\Users\\ankit\\Major Project\\yolov4.weights\")\n",
    "\n",
    "# determine only the *output* layer names that we need from YOLO\n",
    "ln = net.getLayerNames()\n",
    "ln = [ln[i[0] - 1] for i in net.getUnconnectedOutLayers()]"
   ]
  },
  {
   "cell_type": "code",
   "execution_count": 3,
   "id": "agreed-waters",
   "metadata": {},
   "outputs": [],
   "source": [
    "def obj_detect():\n",
    "    fourcc= cv2.VideoWriter_fourcc(*'DIVX')\n",
    "    out=cv2.VideoWriter('Object_detection.avi',fourcc,20.0, (640,480))\n",
    "    cap = cv2.VideoCapture(0)\n",
    "    time.sleep(5)\n",
    "    frame_count = 0\n",
    "    start = time.time()\n",
    "    first = True\n",
    "    frames = []\n",
    "    flag = 0\n",
    "    while True:\n",
    "        frame_count += 1\n",
    "        # Capture frame-by-frameq\n",
    "        ret, frame = cap.read()\n",
    "        frame = cv2.flip(frame,1)\n",
    "        frames.append(frame)\n",
    "\n",
    "        if frame_count == 300:\n",
    "            break\n",
    "        if ret:\n",
    "            key = cv2.waitKey(1)\n",
    "            if frame_count % 60 == 0:\n",
    "                end = time.time()\n",
    "                # grab the frame dimensions and convert it to a blob\n",
    "                (H, W) = frame.shape[:2]\n",
    "                # construct a blob from the input image and then perform a forward\n",
    "                # pass of the YOLO object detector, giving us our bounding boxes and\n",
    "                # associated probabilities\n",
    "                blob = cv2.dnn.blobFromImage(frame, 1 / 255.0, (416, 416), swapRB=True, crop=False)\n",
    "                net.setInput(blob)\n",
    "                layerOutputs = net.forward(ln)\n",
    "\n",
    "                # initialize our lists of detected bounding boxes, confidences, and\n",
    "                # class IDs, respectively\n",
    "                boxes = []\n",
    "                confidences = []\n",
    "                classIDs = []\n",
    "                centers = []\n",
    "\n",
    "                # loop over each of the layer outputs\n",
    "                for output in layerOutputs:\n",
    "                    # loop over each of the detections\n",
    "                    for detection in output:\n",
    "                        # extract the class ID and confidence (i.e., probability) of\n",
    "                        # the current object detection\n",
    "                        scores = detection[5:]\n",
    "                        classID = np.argmax(scores)\n",
    "                        confidence = scores[classID]\n",
    "\n",
    "                        # filter out weak predictions by ensuring the detected\n",
    "                        # probability is greater than the minimum probability\n",
    "                        if confidence > 0.5:\n",
    "                            # scale the bounding box coordinates back relative to the\n",
    "                            # size of the image, keeping in mind that YOLO actually\n",
    "                            # returns the center (x, y)-coordinates of the bounding\n",
    "                            # box followed by the boxes' width and height\n",
    "                            box = detection[0:4] * np.array([W, H, W, H])\n",
    "                            (centerX, centerY, width, height) = box.astype(\"int\")\n",
    "\n",
    "                            # use the center (x, y)-coordinates to derive the top and\n",
    "                            # and left corner of the bounding box\n",
    "                            x = int(centerX - (width / 2))\n",
    "                            y = int(centerY - (height / 2))\n",
    "                            # update our list of bounding box coordinates, confidences,\n",
    "                            # and class IDs\n",
    "                            boxes.append([x, y, int(width), int(height)])\n",
    "                            confidences.append(float(confidence))\n",
    "                            classIDs.append(classID)\n",
    "                            centers.append((centerX, centerY))\n",
    "                            flag = 1\n",
    "\n",
    "                # apply non-maxima suppression to suppress weak, overlapping bounding\n",
    "                # boxes\n",
    "                idxs = cv2.dnn.NMSBoxes(boxes, confidences, 0.5, 0.3)\n",
    "\n",
    "                # ensure at least one detection exists\n",
    "                if len(idxs) > 0:\n",
    "                    # loop over the indexes we are keeping\n",
    "                    for i in idxs.flatten():\n",
    "                        # extract the bounding box coordinates\n",
    "                        (x, y) = (boxes[i][0], boxes[i][1])\n",
    "                        (w, h) = (boxes[i][2], boxes[i][3])\n",
    "                        # draw a bounding box rectangle and label on the frame\n",
    "                        color = [int(c) for c in COLORS[classIDs[i]]]\n",
    "                        cv2.rectangle(frame, (x, y), (x + w, y + h), color, 2)\n",
    "                        text = \"{}: {:.4f}\".format(LABELS[classIDs[i]],confidences[i])\n",
    "                        cv2.putText(frame, text, (x, y - 5),cv2.FONT_HERSHEY_SIMPLEX, 0.5, color, 2)\n",
    "                        \n",
    "                        # find positions\n",
    "                        centerX, centerY = centers[i][0], centers[i][1]\n",
    "\n",
    "                        if centerX <= W/3:\n",
    "                            W_pos = \"left \"\n",
    "                        elif centerX <= (W/3 * 2):\n",
    "                            W_pos = \"center \"\n",
    "                        else:\n",
    "                            W_pos = \"right \"\n",
    "\n",
    "                        if centerY <= H/3:\n",
    "                            H_pos = \"top \"\n",
    "                        elif centerY <= (H/3 * 2):\n",
    "                            H_pos = \"mid \"\n",
    "                        else:\n",
    "                            H_pos = \"bottom \"\n",
    "                            \n",
    "                        print(text)\n",
    "\n",
    "                        if LABELS[classIDs[i]] in hazard_obj:\n",
    "                            obj_present = \"Beware there's a \" + LABELS[classIDs[i]] + \" at \" + H_pos + W_pos\n",
    "                        elif LABELS[classIDs[i]] in alert_obj:\n",
    "                            obj_present = \"Alert! \" + LABELS[classIDs[i]] + \" at \" + H_pos + W_pos\n",
    "                        else:\n",
    "                            obj_present = H_pos + W_pos + LABELS[classIDs[i]]\n",
    "                        if obj_present not in texts:\n",
    "                            texts.append(obj_present)\n",
    "\n",
    "                final_texts = list(set(texts))\n",
    "#                 print(final_texts)\n",
    "                cv2.imwrite(\"Output.jpg\", frame)\n",
    "\n",
    "                if final_texts:\n",
    "                    str1 = ', '\n",
    "                    description = str1.join(final_texts)\n",
    "                    tts = gTTS(description, lang='en')\n",
    "    #                 tts.save('tts.wav')\n",
    "    #                 tts = AudioSegment.from_mp3(\"tts.mp3\")\n",
    "    #                 subprocess.call([\"ffplay\", \"-nodisp\", \"-autoexit\", \"tts.mp3\"])\n",
    "    #                 tts = gTTS(text=label) #Provide the string to convert to speech\n",
    "                    tts.save(\"obj_detected.wav\") #save the string converted to speech as a .wav file\n",
    "                    sound_file = \"obj_detected.wav\"\n",
    "        if flag:\n",
    "            color = [int(c) for c in COLORS[classIDs[i]]]\n",
    "            cv2.rectangle(frame, (x, y), (x + w, y + h), color, 2)\n",
    "            text = \"{}: {:.4f}\".format(LABELS[classIDs[i]],confidences[i])\n",
    "            cv2.putText(frame, text, (x, y - 5),cv2.FONT_HERSHEY_SIMPLEX, 0.5, color, 2)\n",
    "        cv2.imshow(\"Object_Detection\",frame)\n",
    "        out.write(frame)\n",
    "\n",
    "    cap.release()\n",
    "    cv2.destroyAllWindows()"
   ]
  },
  {
   "cell_type": "code",
   "execution_count": 4,
   "id": "double-curve",
   "metadata": {},
   "outputs": [
    {
     "name": "stdout",
     "output_type": "stream",
     "text": [
      "WARNING:tensorflow:From C:\\Users\\ankit\\anaconda3\\envs\\tf\\lib\\site-packages\\keras\\backend\\tensorflow_backend.py:508: The name tf.placeholder is deprecated. Please use tf.compat.v1.placeholder instead.\n",
      "\n",
      "WARNING:tensorflow:From C:\\Users\\ankit\\anaconda3\\envs\\tf\\lib\\site-packages\\keras\\backend\\tensorflow_backend.py:68: The name tf.get_default_graph is deprecated. Please use tf.compat.v1.get_default_graph instead.\n",
      "\n",
      "WARNING:tensorflow:From C:\\Users\\ankit\\anaconda3\\envs\\tf\\lib\\site-packages\\keras\\backend\\tensorflow_backend.py:3837: The name tf.random_uniform is deprecated. Please use tf.random.uniform instead.\n",
      "\n",
      "WARNING:tensorflow:From C:\\Users\\ankit\\anaconda3\\envs\\tf\\lib\\site-packages\\keras\\backend\\tensorflow_backend.py:127: The name tf.placeholder_with_default is deprecated. Please use tf.compat.v1.placeholder_with_default instead.\n",
      "\n",
      "WARNING:tensorflow:From C:\\Users\\ankit\\anaconda3\\envs\\tf\\lib\\site-packages\\keras\\backend\\tensorflow_backend.py:3144: calling dropout (from tensorflow.python.ops.nn_ops) with keep_prob is deprecated and will be removed in a future version.\n",
      "Instructions for updating:\n",
      "Please use `rate` instead of `keep_prob`. Rate should be set to `rate = 1 - keep_prob`.\n",
      "WARNING:tensorflow:Large dropout rate: 0.8 (>0.5). In TensorFlow 2.x, dropout() uses dropout rate instead of keep_prob. Please ensure that this is intended.\n",
      "WARNING:tensorflow:Large dropout rate: 0.8 (>0.5). In TensorFlow 2.x, dropout() uses dropout rate instead of keep_prob. Please ensure that this is intended.\n",
      "WARNING:tensorflow:Large dropout rate: 0.8 (>0.5). In TensorFlow 2.x, dropout() uses dropout rate instead of keep_prob. Please ensure that this is intended.\n",
      "WARNING:tensorflow:Large dropout rate: 0.8 (>0.5). In TensorFlow 2.x, dropout() uses dropout rate instead of keep_prob. Please ensure that this is intended.\n",
      "WARNING:tensorflow:From C:\\Users\\ankit\\anaconda3\\envs\\tf\\lib\\site-packages\\keras\\backend\\tensorflow_backend.py:168: The name tf.get_default_session is deprecated. Please use tf.compat.v1.get_default_session instead.\n",
      "\n",
      "WARNING:tensorflow:From C:\\Users\\ankit\\anaconda3\\envs\\tf\\lib\\site-packages\\keras\\backend\\tensorflow_backend.py:175: The name tf.ConfigProto is deprecated. Please use tf.compat.v1.ConfigProto instead.\n",
      "\n",
      "WARNING:tensorflow:From C:\\Users\\ankit\\anaconda3\\envs\\tf\\lib\\site-packages\\keras\\backend\\tensorflow_backend.py:180: The name tf.Session is deprecated. Please use tf.compat.v1.Session instead.\n",
      "\n",
      "WARNING:tensorflow:From C:\\Users\\ankit\\anaconda3\\envs\\tf\\lib\\site-packages\\keras\\backend\\tensorflow_backend.py:184: The name tf.global_variables is deprecated. Please use tf.compat.v1.global_variables instead.\n",
      "\n",
      "WARNING:tensorflow:From C:\\Users\\ankit\\anaconda3\\envs\\tf\\lib\\site-packages\\keras\\backend\\tensorflow_backend.py:193: The name tf.is_variable_initialized is deprecated. Please use tf.compat.v1.is_variable_initialized instead.\n",
      "\n",
      "WARNING:tensorflow:From C:\\Users\\ankit\\anaconda3\\envs\\tf\\lib\\site-packages\\keras\\backend\\tensorflow_backend.py:200: The name tf.variables_initializer is deprecated. Please use tf.compat.v1.variables_initializer instead.\n",
      "\n",
      "WARNING:tensorflow:From C:\\Users\\ankit\\anaconda3\\envs\\tf\\lib\\site-packages\\keras\\optimizers.py:757: The name tf.train.Optimizer is deprecated. Please use tf.compat.v1.train.Optimizer instead.\n",
      "\n",
      "WARNING:tensorflow:From C:\\Users\\ankit\\anaconda3\\envs\\tf\\lib\\site-packages\\keras\\backend\\tensorflow_backend.py:3075: The name tf.log is deprecated. Please use tf.math.log instead.\n",
      "\n",
      "WARNING:tensorflow:From C:\\Users\\ankit\\anaconda3\\envs\\tf\\lib\\site-packages\\tensorflow_core\\python\\ops\\nn_impl.py:183: where (from tensorflow.python.ops.array_ops) is deprecated and will be removed in a future version.\n",
      "Instructions for updating:\n",
      "Use tf.where in 2.0, which has the same broadcast rule as np.where\n",
      "WARNING:tensorflow:From C:\\Users\\ankit\\anaconda3\\envs\\tf\\lib\\site-packages\\keras\\backend\\tensorflow_backend.py:977: The name tf.assign_add is deprecated. Please use tf.compat.v1.assign_add instead.\n",
      "\n",
      "WARNING:tensorflow:Variable *= will be deprecated. Use `var.assign(var * other)` if you want assignment to the variable value or `x = x * y` if you want a new python Tensor object.\n",
      "WARNING:tensorflow:From C:\\Users\\ankit\\anaconda3\\envs\\tf\\lib\\site-packages\\keras\\backend\\tensorflow_backend.py:964: The name tf.assign is deprecated. Please use tf.compat.v1.assign instead.\n",
      "\n"
     ]
    },
    {
     "name": "stderr",
     "output_type": "stream",
     "text": [
      "C:\\Users\\ankit\\anaconda3\\envs\\tf\\lib\\site-packages\\keras\\models.py:318: UserWarning: Error in loading the saved optimizer state. As a result, your model is starting with a freshly initialized optimizer.\n",
      "  warnings.warn('Error in loading the saved optimizer '\n",
      "C:\\Users\\ankit\\anaconda3\\envs\\tf\\lib\\site-packages\\ipykernel_launcher.py:4: RuntimeWarning: invalid value encountered in true_divide\n",
      "  after removing the cwd from sys.path.\n",
      "C:\\Users\\ankit\\Major Project\\utils.py:124: RuntimeWarning: invalid value encountered in true_divide\n",
      "  data = np.int16(data / np.max(np.abs(data)) * 32767)\n",
      "C:\\Users\\ankit\\anaconda3\\envs\\tf\\lib\\site-packages\\matplotlib\\axes\\_axes.py:7702: RuntimeWarning: divide by zero encountered in log10\n",
      "  Z = 10. * np.log10(spec)\n"
     ]
    },
    {
     "name": "stdout",
     "output_type": "stream",
     "text": [
      "person: 0.8658\n",
      "cell phone: 0.9925\n",
      "person: 0.9886\n",
      "cell phone: 0.9872\n",
      "person: 0.9549\n",
      "bottle: 0.5932\n",
      "cell phone: 0.9936\n",
      "bottle: 0.9158\n",
      "person: 0.8982\n"
     ]
    },
    {
     "name": "stderr",
     "output_type": "stream",
     "text": [
      "C:\\Users\\ankit\\anaconda3\\envs\\tf\\lib\\site-packages\\matplotlib\\image.py:443: UserWarning: Warning: converting a masked element to nan.\n",
      "  dv = np.float64(self.norm.vmax) - np.float64(self.norm.vmin)\n",
      "C:\\Users\\ankit\\anaconda3\\envs\\tf\\lib\\site-packages\\matplotlib\\image.py:444: UserWarning: Warning: converting a masked element to nan.\n",
      "  vmid = np.float64(self.norm.vmin) + dv / 2\n"
     ]
    },
    {
     "data": {
      "image/png": "[encoded data removed]",
      "text/plain": [
       "<Figure size 432x288 with 1 Axes>"
      ]
     },
     "metadata": {
      "needs_background": "light"
     },
     "output_type": "display_data"
    }
   ],
   "source": [
    "chime, fs = sf.read(\"audios/chime.wav\", dtype='float32')\n",
    "model = load_model(\"models/trigger word detection model.h5\")\n",
    "audio_arr = np.zeros((441000, ))\n",
    "audio_arr = np.int16(audio_arr / np.max(np.abs(audio_arr)) * 32767)\n",
    "spec_arr = rec_to_spec(audio_arr).swapaxes(0, 1)\n",
    "model.predict(np.expand_dims(spec_arr, axis = 0))\n",
    "while True:\n",
    "    try:\n",
    "        rate, new_aud_arr = wavfile.read(\"audios/current_recording.wav\")\n",
    "    except:\n",
    "        time.sleep(0.05)\n",
    "        continue\n",
    "    new_spec_arr = rec_to_spec(new_aud_arr).swapaxes(0, 1)\n",
    "    spec_arr = np.vstack([spec_arr, new_spec_arr])[-5511:, :]\n",
    "    prediction = model.predict(np.expand_dims(spec_arr, axis = 0))\n",
    "    if has_new_triggerword(np.squeeze(prediction, axis = 0), 2.5, 10, 0.5)==True:\n",
    "        sd.play(chime, fs)\n",
    "        obj_detect()\n",
    "        break"
   ]
  },
  {
   "cell_type": "code",
   "execution_count": 5,
   "id": "frequent-spending",
   "metadata": {},
   "outputs": [
    {
     "data": {
      "text/html": [
       "\n",
       "                <audio  controls=\"controls\" autoplay=\"autoplay\">\n",
       "                    <source src=\"data:audio/wav;base64,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\" type=\"audio/wav\" />\n",
       "                    Your browser does not support the audio element.\n",
       "                </audio>\n",
       "              "
      ],
      "text/plain": [
       "<IPython.lib.display.Audio object>"
      ]
     },
     "execution_count": 5,
     "metadata": {},
     "output_type": "execute_result"
    }
   ],
   "source": [
    "sound_file = \"obj_detected.wav\"\n",
    "Audio(sound_file, autoplay=True)"
   ]
  },
  {
   "cell_type": "code",
   "execution_count": 6,
   "id": "appropriate-blackjack",
   "metadata": {},
   "outputs": [
    {
     "name": "stdout",
     "output_type": "stream",
     "text": [
      "person: 0.9684\n",
      "person: 0.9908\n",
      "cell phone: 0.8797\n",
      "person: 0.8967\n",
      "bottle: 0.8857\n",
      "person: 0.9558\n",
      "cell phone: 0.8786\n",
      "bottle: 0.8485\n"
     ]
    }
   ],
   "source": [
    "obj_detect()"
   ]
  },
  {
   "cell_type": "code",
   "execution_count": null,
   "id": "streaming-apartment",
   "metadata": {},
   "outputs": [],
   "source": []
  }
 ],
 "metadata": {
  "kernelspec": {
   "display_name": "Python 3",
   "language": "python",
   "name": "python3"
  },
  "language_info": {
   "codemirror_mode": {
    "name": "ipython",
    "version": 3
   },
   "file_extension": ".py",
   "mimetype": "text/x-python",
   "name": "python",
   "nbconvert_exporter": "python",
   "pygments_lexer": "ipython3",
   "version": "3.7.10"
  }
 },
 "nbformat": 4,
 "nbformat_minor": 5
}
