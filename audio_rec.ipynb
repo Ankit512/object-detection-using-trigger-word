{
 "cells": [
  {
   "cell_type": "code",
   "execution_count": 1,
   "id": "vietnamese-joining",
   "metadata": {},
   "outputs": [],
   "source": [
    "import time\n",
    "import pyaudio\n",
    "import numpy as np\n",
    "from scipy.io import wavfile\n",
    "import sys"
   ]
  },
  {
   "cell_type": "code",
   "execution_count": null,
   "id": "ongoing-butterfly",
   "metadata": {},
   "outputs": [],
   "source": [
    "p = pyaudio.PyAudio()\n",
    "CHANNELS = 1\n",
    "RATE = 44100\n",
    "def callback(in_data, frame_count, time_info, flag):\n",
    "    global data, audio_data\n",
    "    audio_data = np.fromstring(in_data, dtype=np.float32)\n",
    "    data = np.append(data, audio_data)\n",
    "    return (audio_data, pyaudio.paContinue)\n",
    "stream = p.open(format=pyaudio.paFloat32,\n",
    "channels=CHANNELS,\n",
    "rate=RATE,\n",
    "output=False,\n",
    "input=True,\n",
    "stream_callback=callback)\n",
    "while True:\n",
    "    global data\n",
    "    data = np.array([])\n",
    "    stream.start_stream()\n",
    "    time.sleep(2.5)\n",
    "    stream.stop_stream()\n",
    "    data = np.int16(data / np.max(np.abs(data)) * 32767)\n",
    "    wavfile.write(\"audios/current_recording.wav\", 44100, data)\n",
    "\n",
    "stream.close()\n",
    "p.terminate()"
   ]
  },
  {
   "cell_type": "code",
   "execution_count": null,
   "id": "effective-mainstream",
   "metadata": {},
   "outputs": [],
   "source": []
  }
 ],
 "metadata": {
  "kernelspec": {
   "display_name": "Python 3",
   "language": "python",
   "name": "python3"
  },
  "language_info": {
   "codemirror_mode": {
    "name": "ipython",
    "version": 3
   },
   "file_extension": ".py",
   "mimetype": "text/x-python",
   "name": "python",
   "nbconvert_exporter": "python",
   "pygments_lexer": "ipython3",
   "version": "3.7.10"
  }
 },
 "nbformat": 4,
 "nbformat_minor": 5
}
